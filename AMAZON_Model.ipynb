{
 "cells": [
  {
   "cell_type": "code",
   "execution_count": 99,
   "id": "1c067a52-131b-4592-8a91-8603e4e0fe11",
   "metadata": {},
   "outputs": [],
   "source": [
    "import pandas as pd\n",
    "import numpy as np\n"
   ]
  },
  {
   "cell_type": "code",
   "execution_count": 100,
   "id": "0191f2c6-e5e9-489d-abb2-276ba0744308",
   "metadata": {},
   "outputs": [],
   "source": [
    "import matplotlib.pyplot as plt \n",
    "from sklearn.linear_model import *\n",
    "data = pd.read_csv('scraped_products_data.csv')"
   ]
  },
  {
   "cell_type": "code",
   "execution_count": 135,
   "id": "e90fcccd-f3be-4b7c-8c2d-b6f5a1e1b572",
   "metadata": {},
   "outputs": [
    {
     "name": "stdout",
     "output_type": "stream",
     "text": [
      "price     0\n",
      "rating    0\n",
      "dtype: int64\n"
     ]
    }
   ],
   "source": [
    "# Load the data\n",
    "data = pd.read_csv('scraped_products_data.csv')\n",
    "\n",
    "# Drop 'url' and 'title' columns\n",
    "data = data.drop(['url', 'title'], axis=1)\n",
    "data = data.dropna()\n",
    "\n",
    "# Replace commas with periods for numerical columns\n",
    "data = data.replace({',': '.'}, regex=True)\n",
    "\n",
    "# Convert all columns to numeric, coerce errors to NaN\n",
    "data = data.apply(pd.to_numeric, errors='coerce')\n",
    "df.dropna()\n",
    "\n",
    "# Check for NaN values in the data\n",
    "print(data.isna().sum())"
   ]
  },
  {
   "cell_type": "code",
   "execution_count": 136,
   "id": "590503e5-a8ca-422a-bfc8-2e67fbde4dea",
   "metadata": {},
   "outputs": [
    {
     "name": "stdout",
     "output_type": "stream",
     "text": [
      "price     0\n",
      "rating    0\n",
      "dtype: int64\n"
     ]
    }
   ],
   "source": [
    "data.head(20)\n",
    "print(data.isna().sum())\n"
   ]
  },
  {
   "cell_type": "code",
   "execution_count": 137,
   "id": "1ebb616c-00a7-499c-99c0-a3b3955fd73e",
   "metadata": {},
   "outputs": [
    {
     "name": "stdout",
     "output_type": "stream",
     "text": [
      "<class 'pandas.core.frame.DataFrame'>\n",
      "Int64Index: 27 entries, 0 to 29\n",
      "Data columns (total 2 columns):\n",
      " #   Column  Non-Null Count  Dtype  \n",
      "---  ------  --------------  -----  \n",
      " 0   price   27 non-null     float64\n",
      " 1   rating  27 non-null     float64\n",
      "dtypes: float64(2)\n",
      "memory usage: 648.0 bytes\n"
     ]
    }
   ],
   "source": [
    "data.info()"
   ]
  },
  {
   "cell_type": "code",
   "execution_count": 138,
   "id": "a1aeea9f-2ba3-4f50-b1d4-52cfdac48b9f",
   "metadata": {
    "scrolled": true
   },
   "outputs": [
    {
     "data": {
      "text/html": [
       "<div>\n",
       "<style scoped>\n",
       "    .dataframe tbody tr th:only-of-type {\n",
       "        vertical-align: middle;\n",
       "    }\n",
       "\n",
       "    .dataframe tbody tr th {\n",
       "        vertical-align: top;\n",
       "    }\n",
       "\n",
       "    .dataframe thead th {\n",
       "        text-align: right;\n",
       "    }\n",
       "</style>\n",
       "<table border=\"1\" class=\"dataframe\">\n",
       "  <thead>\n",
       "    <tr style=\"text-align: right;\">\n",
       "      <th></th>\n",
       "      <th>price</th>\n",
       "      <th>rating</th>\n",
       "    </tr>\n",
       "  </thead>\n",
       "  <tbody>\n",
       "    <tr>\n",
       "      <th>0</th>\n",
       "      <td>44900.0</td>\n",
       "      <td>4.6</td>\n",
       "    </tr>\n",
       "    <tr>\n",
       "      <th>1</th>\n",
       "      <td>54900.0</td>\n",
       "      <td>4.6</td>\n",
       "    </tr>\n",
       "    <tr>\n",
       "      <th>2</th>\n",
       "      <td>54900.0</td>\n",
       "      <td>4.2</td>\n",
       "    </tr>\n",
       "    <tr>\n",
       "      <th>3</th>\n",
       "      <td>54900.0</td>\n",
       "      <td>4.4</td>\n",
       "    </tr>\n",
       "    <tr>\n",
       "      <th>4</th>\n",
       "      <td>70898.0</td>\n",
       "      <td>4.6</td>\n",
       "    </tr>\n",
       "    <tr>\n",
       "      <th>6</th>\n",
       "      <td>54900.0</td>\n",
       "      <td>4.8</td>\n",
       "    </tr>\n",
       "    <tr>\n",
       "      <th>7</th>\n",
       "      <td>54900.0</td>\n",
       "      <td>4.2</td>\n",
       "    </tr>\n",
       "    <tr>\n",
       "      <th>8</th>\n",
       "      <td>44900.0</td>\n",
       "      <td>4.6</td>\n",
       "    </tr>\n",
       "    <tr>\n",
       "      <th>9</th>\n",
       "      <td>44900.0</td>\n",
       "      <td>4.7</td>\n",
       "    </tr>\n",
       "    <tr>\n",
       "      <th>10</th>\n",
       "      <td>54900.0</td>\n",
       "      <td>4.8</td>\n",
       "    </tr>\n",
       "    <tr>\n",
       "      <th>11</th>\n",
       "      <td>44900.0</td>\n",
       "      <td>4.5</td>\n",
       "    </tr>\n",
       "    <tr>\n",
       "      <th>12</th>\n",
       "      <td>54900.0</td>\n",
       "      <td>4.2</td>\n",
       "    </tr>\n",
       "    <tr>\n",
       "      <th>13</th>\n",
       "      <td>54900.0</td>\n",
       "      <td>4.4</td>\n",
       "    </tr>\n",
       "    <tr>\n",
       "      <th>14</th>\n",
       "      <td>54900.0</td>\n",
       "      <td>3.8</td>\n",
       "    </tr>\n",
       "    <tr>\n",
       "      <th>16</th>\n",
       "      <td>54900.0</td>\n",
       "      <td>4.6</td>\n",
       "    </tr>\n",
       "    <tr>\n",
       "      <th>17</th>\n",
       "      <td>54900.0</td>\n",
       "      <td>4.5</td>\n",
       "    </tr>\n",
       "    <tr>\n",
       "      <th>18</th>\n",
       "      <td>54900.0</td>\n",
       "      <td>4.2</td>\n",
       "    </tr>\n",
       "    <tr>\n",
       "      <th>19</th>\n",
       "      <td>54900.0</td>\n",
       "      <td>4.2</td>\n",
       "    </tr>\n",
       "    <tr>\n",
       "      <th>20</th>\n",
       "      <td>54900.0</td>\n",
       "      <td>4.6</td>\n",
       "    </tr>\n",
       "    <tr>\n",
       "      <th>21</th>\n",
       "      <td>54900.0</td>\n",
       "      <td>4.5</td>\n",
       "    </tr>\n",
       "  </tbody>\n",
       "</table>\n",
       "</div>"
      ],
      "text/plain": [
       "      price  rating\n",
       "0   44900.0     4.6\n",
       "1   54900.0     4.6\n",
       "2   54900.0     4.2\n",
       "3   54900.0     4.4\n",
       "4   70898.0     4.6\n",
       "6   54900.0     4.8\n",
       "7   54900.0     4.2\n",
       "8   44900.0     4.6\n",
       "9   44900.0     4.7\n",
       "10  54900.0     4.8\n",
       "11  44900.0     4.5\n",
       "12  54900.0     4.2\n",
       "13  54900.0     4.4\n",
       "14  54900.0     3.8\n",
       "16  54900.0     4.6\n",
       "17  54900.0     4.5\n",
       "18  54900.0     4.2\n",
       "19  54900.0     4.2\n",
       "20  54900.0     4.6\n",
       "21  54900.0     4.5"
      ]
     },
     "execution_count": 138,
     "metadata": {},
     "output_type": "execute_result"
    }
   ],
   "source": [
    "\n",
    "data['price'] = data['price'] \n",
    "\n",
    "data.head(20)"
   ]
  },
  {
   "cell_type": "code",
   "execution_count": 133,
   "id": "278a9cce-e9c9-4175-a78e-c4479f4282d2",
   "metadata": {},
   "outputs": [],
   "source": [
    "\n",
    "X=data [['rating']]\n",
    "Y=data [['price']]\n",
    "X = np.ravel(X)\n",
    "Y = np.ravel(Y)\n",
    "\n"
   ]
  },
  {
   "cell_type": "code",
   "execution_count": 134,
   "id": "8074c423-4901-4890-9731-e14f69d56bc6",
   "metadata": {
    "scrolled": true
   },
   "outputs": [
    {
     "data": {
      "text/plain": [
       "<matplotlib.collections.PathCollection at 0x24b50e48b50>"
      ]
     },
     "execution_count": 134,
     "metadata": {},
     "output_type": "execute_result"
    },
    {
     "data": {
      "image/png": "[encoded data removed]",
      "text/plain": [
       "<Figure size 432x288 with 1 Axes>"
      ]
     },
     "metadata": {
      "needs_background": "light"
     },
     "output_type": "display_data"
    }
   ],
   "source": [
    "plt.scatter(X,Y)\n",
    "\n"
   ]
  },
  {
   "cell_type": "code",
   "execution_count": 152,
   "id": "48b8f01c",
   "metadata": {},
   "outputs": [
    {
     "name": "stdout",
     "output_type": "stream",
     "text": [
      "[0.]\n",
      "0.054900000000000004\n"
     ]
    }
   ],
   "source": [
    "from sklearn.model_selection import train_test_split\n",
    "from sklearn.linear_model import LinearRegression\n",
    "\n",
    "X_train,X_test,Y_train,Y_test= train_test_split(X,Y,test_size=1/3,random_state=0)\n",
    "\n",
    "regressor = LinearRegression()\n",
    "regressor.fit(X_test.reshape(-1, 1), Y_test)\n",
    "print(regressor.coef_)\n",
    "print(regressor.intercept_)\n",
    "X_new = X_test.reshape(-1, 1)"
   ]
  },
  {
   "cell_type": "code",
   "execution_count": 153,
   "id": "26353820",
   "metadata": {},
   "outputs": [
    {
     "data": {
      "image/png": "[encoded data removed]",
      "text/plain": [
       "<Figure size 432x288 with 1 Axes>"
      ]
     },
     "metadata": {
      "needs_background": "light"
     },
     "output_type": "display_data"
    }
   ],
   "source": [
    "import numpy as np\n",
    "import matplotlib.pyplot as plt \n",
    "ordonne=np.linspace(0,15,1000)\n",
    "plt.scatter(X,Y)\n",
    "plt.plot(ordonne,regressor.coef_[0]*ordonne+regressor.intercept_,color='r')\n",
    "plt.xlabel('Rating')\n",
    "plt.ylabel('Price')\n",
    "Y_predict=regressor.predict(X_new)"
   ]
  },
  {
   "cell_type": "code",
   "execution_count": 154,
   "id": "e58fe37b-6da1-4033-9a17-4985cb392b00",
   "metadata": {},
   "outputs": [
    {
     "name": "stdout",
     "output_type": "stream",
     "text": [
      "MAE 0.0\n",
      "MSE 0.0\n",
      "RMSE: 0.0\n"
     ]
    }
   ],
   "source": [
    "\n",
    "\n",
    "\n",
    "\n",
    "from sklearn import metrics\n",
    "print('MAE', metrics.mean_absolute_error(Y_test,Y_predict))\n",
    "print('MSE', metrics.mean_squared_error(Y_test,Y_predict))\n",
    "print('RMSE:',np.sqrt(metrics.mean_squared_error(Y_test,Y_predict)))"
   ]
  },
  {
   "cell_type": "code",
   "execution_count": 155,
   "id": "e0bc33f4-6851-45e4-aa1a-3ad6e537068d",
   "metadata": {},
   "outputs": [
    {
     "name": "stdout",
     "output_type": "stream",
     "text": [
      "R²: 1.0\n"
     ]
    }
   ],
   "source": [
    "print('R²:',metrics.r2_score(Y_test,Y_predict))"
   ]
  },
  {
   "cell_type": "code",
   "execution_count": null,
   "id": "8ab5b2e9",
   "metadata": {},
   "outputs": [],
   "source": []
  },
  {
   "cell_type": "code",
   "execution_count": 156,
   "id": "2b52d55e-6c71-46cb-9e07-3aae34056a8a",
   "metadata": {},
   "outputs": [],
   "source": [
    "rating=[[5],[10]]\n",
    "NewTest=pd.DataFrame(YearsExperience,columns=['rating'])"
   ]
  },
  {
   "cell_type": "code",
   "execution_count": 157,
   "id": "d7fa2010-26fe-4b21-9f4f-9dd2dc96fa13",
   "metadata": {},
   "outputs": [
    {
     "name": "stdout",
     "output_type": "stream",
     "text": [
      "R²: 1.0\n"
     ]
    }
   ],
   "source": [
    "print('R²:',metrics.r2_score(Y_test,Y_predict))"
   ]
  },
  {
   "cell_type": "code",
   "execution_count": 158,
   "id": "6db8bd9b-4641-4dce-b51d-87e2f69046e7",
   "metadata": {},
   "outputs": [
    {
     "data": {
      "text/plain": [
       "array([0.0549, 0.0549])"
      ]
     },
     "execution_count": 158,
     "metadata": {},
     "output_type": "execute_result"
    }
   ],
   "source": [
    "NewTest=pd.DataFrame(YearsExperience,columns=['YearsExperience'])\n",
    "Y_New=regressor.predict(NewTest)\n",
    "Y_New\n",
    "\n"
   ]
  },
  {
   "cell_type": "code",
   "execution_count": 37,
   "id": "05648c4a-7746-408b-bd4e-c9d74c7c6790",
   "metadata": {},
   "outputs": [
    {
     "data": {
      "text/plain": [
       "Text(0.5, 1.0, 'Residual Plot')"
      ]
     },
     "execution_count": 37,
     "metadata": {},
     "output_type": "execute_result"
    },
    {
     "data": {
      "image/png": "[encoded data removed]",
      "text/plain": [
       "<Figure size 640x480 with 1 Axes>"
      ]
     },
     "metadata": {},
     "output_type": "display_data"
    }
   ],
   "source": [
    "residuals = Y_test - Y_predict\n",
    "plt.scatter(Y_predict, residuals)\n",
    "plt.axhline(y=0, color='r', linestyle='--')\n",
    "plt.xlabel('Predicted')\n",
    "plt.ylabel('Residuals')\n",
    "plt.title('Residual Plot')\n"
   ]
  },
  {
   "cell_type": "code",
   "execution_count": null,
   "id": "6a2e00bb-743c-40ce-85f2-2786809ab4d8",
   "metadata": {},
   "outputs": [],
   "source": []
  }
 ],
 "metadata": {
  "kernelspec": {
   "display_name": "Python 3",
   "language": "python",
   "name": "python3"
  },
  "language_info": {
   "codemirror_mode": {
    "name": "ipython",
    "version": 3
   },
   "file_extension": ".py",
   "mimetype": "text/x-python",
   "name": "python",
   "nbconvert_exporter": "python",
   "pygments_lexer": "ipython3",
   "version": "3.8.8"
  }
 },
 "nbformat": 4,
 "nbformat_minor": 5
}
